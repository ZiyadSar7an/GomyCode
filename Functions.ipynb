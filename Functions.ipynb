{
 "cells": [
  {
   "cell_type": "code",
   "execution_count": 5,
   "id": "c20528ab",
   "metadata": {},
   "outputs": [],
   "source": [
    "def Maximum(x):\n",
    "    return(max(x))"
   ]
  },
  {
   "cell_type": "code",
   "execution_count": 6,
   "id": "3a403f15",
   "metadata": {},
   "outputs": [],
   "source": [
    "x = list(range(10))"
   ]
  },
  {
   "cell_type": "code",
   "execution_count": 7,
   "id": "a7ab3963",
   "metadata": {},
   "outputs": [
    {
     "data": {
      "text/plain": [
       "9"
      ]
     },
     "execution_count": 7,
     "metadata": {},
     "output_type": "execute_result"
    }
   ],
   "source": [
    "Maximum(x)"
   ]
  },
  {
   "cell_type": "code",
   "execution_count": 8,
   "id": "2863e9f9",
   "metadata": {},
   "outputs": [],
   "source": [
    "def calculate(x , y):\n",
    "    result = (x-y,x+y)\n",
    "    return result"
   ]
  },
  {
   "cell_type": "code",
   "execution_count": 10,
   "id": "055591ca",
   "metadata": {},
   "outputs": [
    {
     "data": {
      "text/plain": [
       "(30, 50)"
      ]
     },
     "execution_count": 10,
     "metadata": {},
     "output_type": "execute_result"
    }
   ],
   "source": [
    "calculate(40,10)"
   ]
  },
  {
   "cell_type": "code",
   "execution_count": 11,
   "id": "2ec94ca1",
   "metadata": {},
   "outputs": [
    {
     "data": {
      "text/plain": [
       "45"
      ]
     },
     "execution_count": 11,
     "metadata": {},
     "output_type": "execute_result"
    }
   ],
   "source": [
    "sum(x)"
   ]
  },
  {
   "cell_type": "code",
   "execution_count": 12,
   "id": "7eafa7e1",
   "metadata": {},
   "outputs": [],
   "source": [
    "def Add(x):\n",
    "    return sum(x)"
   ]
  },
  {
   "cell_type": "code",
   "execution_count": 31,
   "id": "462d38f0",
   "metadata": {},
   "outputs": [],
   "source": [
    "def product(x):\n",
    "    result = 1\n",
    "    for i in x :\n",
    "        result*=i\n",
    "    return result    \n",
    "    "
   ]
  },
  {
   "cell_type": "code",
   "execution_count": 24,
   "id": "e81c8eef",
   "metadata": {},
   "outputs": [
    {
     "name": "stdout",
     "output_type": "stream",
     "text": [
      "362880\n"
     ]
    }
   ],
   "source": [
    "product(x)"
   ]
  },
  {
   "cell_type": "code",
   "execution_count": 22,
   "id": "6e69ef76",
   "metadata": {},
   "outputs": [
    {
     "data": {
      "text/plain": [
       "0"
      ]
     },
     "execution_count": 22,
     "metadata": {},
     "output_type": "execute_result"
    }
   ],
   "source": [
    "x.pop(0)"
   ]
  },
  {
   "cell_type": "code",
   "execution_count": 32,
   "id": "93304e51",
   "metadata": {},
   "outputs": [],
   "source": [
    "def sum_multi(x):\n",
    "    even = x[::2]\n",
    "    odd = x[1::2]\n",
    "    sum_even = Add(even)\n",
    "    multi_odd = product(odd)\n",
    "    return sum_even , multi_odd"
   ]
  },
  {
   "cell_type": "code",
   "execution_count": 33,
   "id": "24fded32",
   "metadata": {},
   "outputs": [
    {
     "data": {
      "text/plain": [
       "(25, 384)"
      ]
     },
     "execution_count": 33,
     "metadata": {},
     "output_type": "execute_result"
    }
   ],
   "source": [
    "sum_multi(x)"
   ]
  },
  {
   "cell_type": "code",
   "execution_count": 34,
   "id": "57f3496c",
   "metadata": {},
   "outputs": [],
   "source": [
    "x={}"
   ]
  },
  {
   "cell_type": "code",
   "execution_count": 39,
   "id": "c7cc6020",
   "metadata": {},
   "outputs": [],
   "source": [
    "def cap(d):\n",
    "    new = {}\n",
    "    for key , value in d.items():\n",
    "        new[key]=value.capitalize()\n",
    "    return new"
   ]
  },
  {
   "cell_type": "code",
   "execution_count": 41,
   "id": "aaa0731d",
   "metadata": {},
   "outputs": [
    {
     "data": {
      "text/plain": [
       "{'name': 'Zyad'}"
      ]
     },
     "execution_count": 41,
     "metadata": {},
     "output_type": "execute_result"
    }
   ],
   "source": [
    "d = {\"name\":\"zyad\"}\n",
    "cap(d)"
   ]
  },
  {
   "cell_type": "code",
   "execution_count": 3,
   "id": "1455e34c",
   "metadata": {},
   "outputs": [],
   "source": [
    "def akbar(d):\n",
    "    result = \"\"\n",
    "    for i in d:\n",
    "        if len(i) > len(result):\n",
    "            result = i\n",
    "        \n",
    "                \n",
    "                \n",
    "    return result"
   ]
  },
  {
   "cell_type": "code",
   "execution_count": 4,
   "id": "65b5e265",
   "metadata": {},
   "outputs": [
    {
     "data": {
      "text/plain": [
       "'ahhmed'"
      ]
     },
     "execution_count": 4,
     "metadata": {},
     "output_type": "execute_result"
    }
   ],
   "source": [
    "akbar(s)"
   ]
  },
  {
   "cell_type": "code",
   "execution_count": 1,
   "id": "b20ebaa4",
   "metadata": {},
   "outputs": [],
   "source": [
    "s = {\"ziyad\" , \"ahhmed\" ,\"adam\"}"
   ]
  },
  {
   "cell_type": "code",
   "execution_count": 17,
   "id": "e81f187d",
   "metadata": {},
   "outputs": [],
   "source": [
    "def ektbly():\n",
    "    m=input(\"engez y3m ektb: \")\n",
    "    x=m.split('-')\n",
    "    x.sort\n",
    "    print('-'.join(x))"
   ]
  },
  {
   "cell_type": "code",
   "execution_count": 18,
   "id": "ca92c393",
   "metadata": {},
   "outputs": [
    {
     "name": "stdout",
     "output_type": "stream",
     "text": [
      "engez y3m ektb: swksk-swpksks\n",
      "swksk-swpksks\n"
     ]
    }
   ],
   "source": [
    "ektbly()"
   ]
  },
  {
   "cell_type": "code",
   "execution_count": null,
   "id": "be243f96",
   "metadata": {},
   "outputs": [],
   "source": []
  }
 ],
 "metadata": {
  "kernelspec": {
   "display_name": "Python 3 (ipykernel)",
   "language": "python",
   "name": "python3"
  },
  "language_info": {
   "codemirror_mode": {
    "name": "ipython",
    "version": 3
   },
   "file_extension": ".py",
   "mimetype": "text/x-python",
   "name": "python",
   "nbconvert_exporter": "python",
   "pygments_lexer": "ipython3",
   "version": "3.8.16"
  }
 },
 "nbformat": 4,
 "nbformat_minor": 5
}
