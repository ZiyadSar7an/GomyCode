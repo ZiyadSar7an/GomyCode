{
 "cells": [
  {
   "cell_type": "code",
   "execution_count": 7,
   "id": "d541b31d",
   "metadata": {},
   "outputs": [],
   "source": [
    "\n",
    "import math\n"
   ]
  },
  {
   "cell_type": "code",
   "execution_count": 35,
   "id": "1108d068",
   "metadata": {},
   "outputs": [],
   "source": [
    "class point3d:\n",
    "    def __init__(self,x,y,z):\n",
    "        self.x = x\n",
    "        self.y = y\n",
    "        self.z = z\n",
    "    def aho(self):\n",
    "        return (self.x,self.y,self.z)"
   ]
  },
  {
   "cell_type": "code",
   "execution_count": 20,
   "id": "5cc6d97c",
   "metadata": {},
   "outputs": [
    {
     "name": "stdout",
     "output_type": "stream",
     "text": [
      "<class '__main__.point3d'>\n"
     ]
    }
   ],
   "source": [
    "print(point3d)"
   ]
  },
  {
   "cell_type": "code",
   "execution_count": 21,
   "id": "8249a99e",
   "metadata": {},
   "outputs": [],
   "source": [
    "my_point = point3d(1,2,3)"
   ]
  },
  {
   "cell_type": "code",
   "execution_count": 22,
   "id": "16df9f18",
   "metadata": {},
   "outputs": [
    {
     "name": "stdout",
     "output_type": "stream",
     "text": [
      "3\n"
     ]
    }
   ],
   "source": [
    "print(my_point.z)"
   ]
  },
  {
   "cell_type": "code",
   "execution_count": 24,
   "id": "067f0b5f",
   "metadata": {},
   "outputs": [
    {
     "data": {
      "text/plain": [
       "(1, 2, 3)"
      ]
     },
     "execution_count": 24,
     "metadata": {},
     "output_type": "execute_result"
    }
   ],
   "source": [
    "my_point.aho()"
   ]
  },
  {
   "cell_type": "code",
   "execution_count": 28,
   "id": "2d9038f1",
   "metadata": {},
   "outputs": [],
   "source": [
    "class rectangle:\n",
    "    def __init__(self,x,y):\n",
    "        self.x = x\n",
    "        self.y = y\n",
    "    def area(self):\n",
    "        return (self.x*self.y)\n",
    "    def perimeter(self):\n",
    "        return (self.x+self.y)*2"
   ]
  },
  {
   "cell_type": "code",
   "execution_count": 29,
   "id": "ac5708c2",
   "metadata": {},
   "outputs": [],
   "source": [
    "box = rectangle(3,4)"
   ]
  },
  {
   "cell_type": "code",
   "execution_count": 30,
   "id": "79deab1c",
   "metadata": {},
   "outputs": [
    {
     "data": {
      "text/plain": [
       "12"
      ]
     },
     "execution_count": 30,
     "metadata": {},
     "output_type": "execute_result"
    }
   ],
   "source": [
    "box.area()"
   ]
  },
  {
   "cell_type": "code",
   "execution_count": 31,
   "id": "6c46fd68",
   "metadata": {},
   "outputs": [
    {
     "data": {
      "text/plain": [
       "14"
      ]
     },
     "execution_count": 31,
     "metadata": {},
     "output_type": "execute_result"
    }
   ],
   "source": [
    "box.perimeter()"
   ]
  },
  {
   "cell_type": "code",
   "execution_count": 33,
   "id": "89083a6b",
   "metadata": {},
   "outputs": [
    {
     "ename": "AttributeError",
     "evalue": "'_Helper' object has no attribute 'inside'",
     "output_type": "error",
     "traceback": [
      "\u001b[1;31m---------------------------------------------------------------------------\u001b[0m",
      "\u001b[1;31mAttributeError\u001b[0m                            Traceback (most recent call last)",
      "Cell \u001b[1;32mIn[33], line 1\u001b[0m\n\u001b[1;32m----> 1\u001b[0m \u001b[43mhelp\u001b[49m\u001b[38;5;241;43m.\u001b[39;49m\u001b[43minside\u001b[49m()\n",
      "\u001b[1;31mAttributeError\u001b[0m: '_Helper' object has no attribute 'inside'"
     ]
    }
   ],
   "source": [
    "help.inside()\n"
   ]
  },
  {
   "cell_type": "code",
   "execution_count": 13,
   "id": "099d71c5",
   "metadata": {},
   "outputs": [],
   "source": [
    "class Circle:\n",
    "    def __init__(self,center,radius):\n",
    "        self.center = center\n",
    "        self.radius = radius\n",
    "    def area(self):\n",
    "        return (self.radius*math.pi)**2\n",
    "    def perimeter(self):\n",
    "        return (self.radius*math.pi)*2\n",
    "    def inside(self):\n",
    "        point = [1,2]\n",
    "        distance = math.sqrt((point[0]-self.center[0])**2 + (point[1]-self.center[1])**2)\n",
    "        if distance > self.radius*2:\n",
    "            print('this point is out of bounds')\n",
    "        else:\n",
    "            print('this point is inside the circle')"
   ]
  },
  {
   "cell_type": "code",
   "execution_count": 4,
   "id": "69ee3d4b",
   "metadata": {},
   "outputs": [],
   "source": [
    "o= [0,1]"
   ]
  },
  {
   "cell_type": "code",
   "execution_count": 5,
   "id": "2299991b",
   "metadata": {},
   "outputs": [],
   "source": [
    "dayra = Circle(o,3)"
   ]
  },
  {
   "cell_type": "code",
   "execution_count": 60,
   "id": "2e7ae96c",
   "metadata": {},
   "outputs": [
    {
     "data": {
      "text/plain": [
       "88.82643960980423"
      ]
     },
     "execution_count": 60,
     "metadata": {},
     "output_type": "execute_result"
    }
   ],
   "source": [
    "dayra.area()"
   ]
  },
  {
   "cell_type": "code",
   "execution_count": 14,
   "id": "9e5c0529",
   "metadata": {},
   "outputs": [
    {
     "name": "stdout",
     "output_type": "stream",
     "text": [
      "this point is inside the circle\n"
     ]
    }
   ],
   "source": [
    "dayra.inside()"
   ]
  },
  {
   "cell_type": "code",
   "execution_count": 19,
   "id": "fbfd3aa7",
   "metadata": {},
   "outputs": [],
   "source": [
    "class Bank:\n",
    "    def __init__(self,balance):\n",
    "        self.balance = balance\n",
    "    def withdraw(self,x):\n",
    "        self.balance -= x\n",
    "        print(self.balance)\n",
    "    def deposit(self,x):\n",
    "        self.balance += x\n",
    "        print(self.balance)"
   ]
  },
  {
   "cell_type": "code",
   "execution_count": 20,
   "id": "491072a4",
   "metadata": {},
   "outputs": [],
   "source": [
    "ziyad = Bank(1000)"
   ]
  },
  {
   "cell_type": "code",
   "execution_count": 21,
   "id": "a4050324",
   "metadata": {},
   "outputs": [
    {
     "name": "stdout",
     "output_type": "stream",
     "text": [
      "1500\n"
     ]
    }
   ],
   "source": [
    "ziyad.deposit(500)"
   ]
  },
  {
   "cell_type": "code",
   "execution_count": null,
   "id": "84232f72",
   "metadata": {},
   "outputs": [],
   "source": []
  }
 ],
 "metadata": {
  "kernelspec": {
   "display_name": "Python 3 (ipykernel)",
   "language": "python",
   "name": "python3"
  },
  "language_info": {
   "codemirror_mode": {
    "name": "ipython",
    "version": 3
   },
   "file_extension": ".py",
   "mimetype": "text/x-python",
   "name": "python",
   "nbconvert_exporter": "python",
   "pygments_lexer": "ipython3",
   "version": "3.8.16"
  }
 },
 "nbformat": 4,
 "nbformat_minor": 5
}
