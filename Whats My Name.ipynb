{
 "cells": [
  {
   "cell_type": "code",
   "execution_count": 1,
   "id": "5a8dab4a",
   "metadata": {},
   "outputs": [
    {
     "name": "stdout",
     "output_type": "stream",
     "text": [
      "Please enter your First name: z\n"
     ]
    }
   ],
   "source": [
    "X = input(\"Please enter your First name: \")"
   ]
  },
  {
   "cell_type": "code",
   "execution_count": 2,
   "id": "c444db3d",
   "metadata": {},
   "outputs": [
    {
     "name": "stdout",
     "output_type": "stream",
     "text": [
      "please Enter Your Last Name: s\n"
     ]
    }
   ],
   "source": [
    "y = input(\"please Enter Your Last Name: \" )"
   ]
  },
  {
   "cell_type": "code",
   "execution_count": 3,
   "id": "d7657c10",
   "metadata": {},
   "outputs": [
    {
     "data": {
      "text/plain": [
       "str"
      ]
     },
     "execution_count": 3,
     "metadata": {},
     "output_type": "execute_result"
    }
   ],
   "source": [
    "type(X)"
   ]
  },
  {
   "cell_type": "code",
   "execution_count": 4,
   "id": "99e20082",
   "metadata": {},
   "outputs": [
    {
     "data": {
      "text/plain": [
       "str"
      ]
     },
     "execution_count": 4,
     "metadata": {},
     "output_type": "execute_result"
    }
   ],
   "source": [
    "type(y)"
   ]
  },
  {
   "cell_type": "code",
   "execution_count": 5,
   "id": "fe98e7fe",
   "metadata": {},
   "outputs": [
    {
     "name": "stdout",
     "output_type": "stream",
     "text": [
      "y + X = s z\n"
     ]
    }
   ],
   "source": [
    "print (\"y + X =\",y+\" \" + X)"
   ]
  },
  {
   "cell_type": "code",
   "execution_count": 6,
   "id": "99bd373a",
   "metadata": {},
   "outputs": [
    {
     "name": "stdout",
     "output_type": "stream",
     "text": [
      "How many times did u drink water today: 4\n"
     ]
    }
   ],
   "source": [
    "N = int(input(\"How many times did u drink water today: \"))"
   ]
  },
  {
   "cell_type": "code",
   "execution_count": 7,
   "id": "15130cd8",
   "metadata": {},
   "outputs": [],
   "source": [
    "Sum=(f\"{N} + {N}{N} + {N}{N}{N}\")"
   ]
  },
  {
   "cell_type": "code",
   "execution_count": 8,
   "id": "f9583a8e",
   "metadata": {},
   "outputs": [
    {
     "name": "stdout",
     "output_type": "stream",
     "text": [
      "4 + 44 + 444\n"
     ]
    }
   ],
   "source": [
    "print(Sum)"
   ]
  },
  {
   "cell_type": "code",
   "execution_count": 9,
   "id": "5d83173a",
   "metadata": {},
   "outputs": [],
   "source": [
    "NN = int(f\"{N}{N}\")"
   ]
  },
  {
   "cell_type": "code",
   "execution_count": 10,
   "id": "c7647b5a",
   "metadata": {},
   "outputs": [],
   "source": [
    "NNN = int(f\"{N}{N}{N}\")"
   ]
  },
  {
   "cell_type": "code",
   "execution_count": 11,
   "id": "d8c3a91a",
   "metadata": {},
   "outputs": [
    {
     "name": "stdout",
     "output_type": "stream",
     "text": [
      "492\n"
     ]
    }
   ],
   "source": [
    "print(N + NN + NNN)"
   ]
  },
  {
   "cell_type": "code",
   "execution_count": 12,
   "id": "5739167c",
   "metadata": {},
   "outputs": [
    {
     "name": "stdout",
     "output_type": "stream",
     "text": [
      "How Many Hours Did u Sleep Today?: 8\n"
     ]
    }
   ],
   "source": [
    "z = int(input(\"How Many Hours Did u Sleep Today?: \"))"
   ]
  },
  {
   "cell_type": "code",
   "execution_count": 13,
   "id": "837278c6",
   "metadata": {},
   "outputs": [
    {
     "name": "stdout",
     "output_type": "stream",
     "text": [
      "Odd\n"
     ]
    }
   ],
   "source": [
    "if type(z/2) == int():\n",
    "    print(\"Even\")\n",
    "else:\n",
    "    print(\"Odd\")"
   ]
  },
  {
   "cell_type": "code",
   "execution_count": 14,
   "id": "704271a9",
   "metadata": {},
   "outputs": [
    {
     "name": "stdout",
     "output_type": "stream",
     "text": [
      "2002 2009 2016 2023 2037 2044 2051 2058 2072 2079 2086 2093 2107 2114 2121 2128 2142 2149 2156 2163 2177 2184 2191 2198 2212 2219 2226 2233 2247 2254 2261 2268 2282 2289 2296 2303 2317 2324 2331 2338 2352 2359 2366 2373 2387 2394 2401 2408 2422 2429 2436 2443 2457 2464 2471 2478 2492 2499 2506 2513 2527 2534 2541 2548 2562 2569 2576 2583 2597 2604 2611 2618 2632 2639 2646 2653 2667 2674 2681 2688 2702 2709 2716 2723 2737 2744 2751 2758 2772 2779 2786 2793 2807 2814 2821 2828 2842 2849 2856 2863 2877 2884 2891 2898 2912 2919 2926 2933 2947 2954 2961 2968 2982 2989 2996 3003 3017 3024 3031 3038 3052 3059 3066 3073 3087 3094 3101 3108 3122 3129 3136 3143 3157 3164 3171 3178 3192 3199 "
     ]
    }
   ],
   "source": [
    "for i in range(2000 , 3201):\n",
    "    if i%7 == 0 and i%5 != 0:\n",
    "        print(i,end= \" \") \n"
   ]
  },
  {
   "cell_type": "code",
   "execution_count": 15,
   "id": "d90e48fd",
   "metadata": {},
   "outputs": [
    {
     "name": "stdout",
     "output_type": "stream",
     "text": [
      "Hat Rakam8\n"
     ]
    }
   ],
   "source": [
    "m=int(input(\"Hat Rakam\"))"
   ]
  },
  {
   "cell_type": "code",
   "execution_count": 16,
   "id": "da87bdc3",
   "metadata": {},
   "outputs": [
    {
     "data": {
      "text/plain": [
       "int"
      ]
     },
     "execution_count": 16,
     "metadata": {},
     "output_type": "execute_result"
    }
   ],
   "source": [
    "type(m)"
   ]
  },
  {
   "cell_type": "code",
   "execution_count": 17,
   "id": "167b2bca",
   "metadata": {},
   "outputs": [],
   "source": [
    "e=(m+1)"
   ]
  },
  {
   "cell_type": "code",
   "execution_count": 18,
   "id": "380d9920",
   "metadata": {},
   "outputs": [
    {
     "name": "stdout",
     "output_type": "stream",
     "text": [
      "9\n"
     ]
    }
   ],
   "source": [
    "print(e)"
   ]
  },
  {
   "cell_type": "code",
   "execution_count": 19,
   "id": "20e81bf7",
   "metadata": {},
   "outputs": [],
   "source": [
    "r=1"
   ]
  },
  {
   "cell_type": "code",
   "execution_count": 20,
   "id": "476c4ebf",
   "metadata": {},
   "outputs": [],
   "source": [
    "for t in range(1,e):\n",
    "    r*=t\n",
    "    "
   ]
  },
  {
   "cell_type": "code",
   "execution_count": 21,
   "id": "ab588361",
   "metadata": {},
   "outputs": [
    {
     "name": "stdout",
     "output_type": "stream",
     "text": [
      "40320\n"
     ]
    }
   ],
   "source": [
    "print(r)"
   ]
  },
  {
   "cell_type": "code",
   "execution_count": 22,
   "id": "6e57e4d4",
   "metadata": {},
   "outputs": [],
   "source": [
    "string = (\"hello team\")"
   ]
  },
  {
   "cell_type": "code",
   "execution_count": 23,
   "id": "29bd7def",
   "metadata": {},
   "outputs": [],
   "source": [
    "q= len(string) + 1"
   ]
  },
  {
   "cell_type": "code",
   "execution_count": 24,
   "id": "c03fa82e",
   "metadata": {},
   "outputs": [
    {
     "name": "stdout",
     "output_type": "stream",
     "text": [
      "11\n"
     ]
    }
   ],
   "source": [
    "print(q)"
   ]
  },
  {
   "cell_type": "code",
   "execution_count": 25,
   "id": "b4fff01d",
   "metadata": {},
   "outputs": [],
   "source": [
    "new_string=(\"\")"
   ]
  },
  {
   "cell_type": "code",
   "execution_count": 26,
   "id": "b88e38dc",
   "metadata": {},
   "outputs": [],
   "source": [
    "for (w) in range(len(string)):\n",
    "    if w%2 == 0:\n",
    "        new_string+=(string[w])"
   ]
  },
  {
   "cell_type": "code",
   "execution_count": 27,
   "id": "0957924b",
   "metadata": {},
   "outputs": [
    {
     "name": "stdout",
     "output_type": "stream",
     "text": [
      "hlota\n"
     ]
    }
   ],
   "source": [
    "print(new_string)"
   ]
  },
  {
   "cell_type": "code",
   "execution_count": 68,
   "id": "02f76b93",
   "metadata": {},
   "outputs": [
    {
     "name": "stdout",
     "output_type": "stream",
     "text": [
      "what is the price: 150\n"
     ]
    }
   ],
   "source": [
    "price= int(input(\"what is the price: \"))"
   ]
  },
  {
   "cell_type": "code",
   "execution_count": 73,
   "id": "77d817cd",
   "metadata": {},
   "outputs": [],
   "source": [
    "if price >= 500 :\n",
    "    new_price=(price * 0.5)\n",
    "elif price < 200 :\n",
    "    new_price=(price * 0.9)\n",
    "else: \n",
    "    new_price=(price*0.7)"
   ]
  },
  {
   "cell_type": "code",
   "execution_count": 74,
   "id": "5a7816b8",
   "metadata": {},
   "outputs": [
    {
     "name": "stdout",
     "output_type": "stream",
     "text": [
      "135.0\n"
     ]
    }
   ],
   "source": [
    "print(new_price)"
   ]
  },
  {
   "cell_type": "code",
   "execution_count": 103,
   "id": "24e81476",
   "metadata": {},
   "outputs": [
    {
     "name": "stdout",
     "output_type": "stream",
     "text": [
      "enter Number1\n"
     ]
    }
   ],
   "source": [
    "First_Nu= int(input(\"enter Number\"))"
   ]
  },
  {
   "cell_type": "code",
   "execution_count": 104,
   "id": "43f5701f",
   "metadata": {},
   "outputs": [
    {
     "name": "stdout",
     "output_type": "stream",
     "text": [
      "enter second number2\n"
     ]
    }
   ],
   "source": [
    "Second_Nu= int(input(\"enter second number\"))"
   ]
  },
  {
   "cell_type": "code",
   "execution_count": 106,
   "id": "7fd243ca",
   "metadata": {},
   "outputs": [
    {
     "name": "stdout",
     "output_type": "stream",
     "text": [
      "operation?sum\n"
     ]
    }
   ],
   "source": [
    "op = (input(\"operation?\"))\n",
    "opp=[\"sum\",\"multi\",\"sub\",\"dev\"]"
   ]
  },
  {
   "cell_type": "code",
   "execution_count": 110,
   "id": "fafacc21",
   "metadata": {},
   "outputs": [
    {
     "name": "stdout",
     "output_type": "stream",
     "text": [
      "1: Sum \n",
      "2: Multi \n",
      "3: sub \n",
      "4: dev\n",
      "3\n"
     ]
    }
   ],
   "source": [
    "print(\"1: Sum \\n2: Multi \\n3: sub \\n4: dev\")\n",
    "if (op) == opp[0] :\n",
    "    result= First_Nu + Second_Nu\n",
    "    print(result)\n",
    "elif (op) == 2 :\n",
    "    result= First_Nu * Second_Nu\n",
    "    print(result)\n",
    "elif (op) == 3 :\n",
    "    result= First_Nu - Second_Nu\n",
    "    print(result)\n",
    "elif (op) == 4 :\n",
    "    result= First_Nu / Second_Nu\n",
    "    print(result)    "
   ]
  },
  {
   "cell_type": "code",
   "execution_count": null,
   "id": "e1e9e474",
   "metadata": {},
   "outputs": [],
   "source": []
  }
 ],
 "metadata": {
  "kernelspec": {
   "display_name": "Python 3 (ipykernel)",
   "language": "python",
   "name": "python3"
  },
  "language_info": {
   "codemirror_mode": {
    "name": "ipython",
    "version": 3
   },
   "file_extension": ".py",
   "mimetype": "text/x-python",
   "name": "python",
   "nbconvert_exporter": "python",
   "pygments_lexer": "ipython3",
   "version": "3.8.16"
  }
 },
 "nbformat": 4,
 "nbformat_minor": 5
}
